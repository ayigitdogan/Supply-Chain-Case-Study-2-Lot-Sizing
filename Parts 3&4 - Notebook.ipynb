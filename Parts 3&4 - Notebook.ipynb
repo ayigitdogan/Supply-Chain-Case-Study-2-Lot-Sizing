{
  "cells": [
    {
      "attachments": {},
      "cell_type": "markdown",
      "metadata": {
        "id": "7a-gRsvu1wUa"
      },
      "source": [
        "# Lot Sizing Case Study - Parts 3&4"
      ]
    },
    {
      "cell_type": "code",
      "execution_count": 2,
      "metadata": {
        "id": "PQmmBCVDwdum"
      },
      "outputs": [],
      "source": [
        "# Import libraries\n",
        "\n",
        "from    pulp    import *                # Will be used as the solver \n",
        "import  numpy   as np                   \n",
        "import  pandas  as pd                   # Will be used to generate tables                 \n"
      ]
    },
    {
      "attachments": {},
      "cell_type": "markdown",
      "metadata": {
        "id": "Ibya-bDl18jy"
      },
      "source": [
        "## Part 3"
      ]
    },
    {
      "cell_type": "code",
      "execution_count": 3,
      "metadata": {
        "id": "Sj7DBJfIwdun"
      },
      "outputs": [],
      "source": [
        "# Definition of the problem\n",
        "\n",
        "model3 = LpProblem( name    = \"lot-sizing\", \n",
        "                    sense   = LpMinimize            )\n",
        "                    "
      ]
    },
    {
      "cell_type": "code",
      "execution_count": 4,
      "metadata": {
        "id": "ysTfLyT6wdun"
      },
      "outputs": [],
      "source": [
        "# Definition of the sets\n",
        "\n",
        "T       = range(1,13)       # Set of months:                    T = {1, 2, 3, 4 ... 12}\n",
        "T_ext   = range(13)         # Extended time horizon             T = 0 included\n",
        "P       = (\"P1\", \"P2\")      # Set of product groups: basic and pro\n"
      ]
    },
    {
      "cell_type": "code",
      "execution_count": 5,
      "metadata": {
        "id": "6rTTCRvtwduo"
      },
      "outputs": [],
      "source": [
        "# Definition of the parameters\n",
        "\n",
        "D = (   (226,   171), \n",
        "        (117,   177),\n",
        "        (5,     144),\n",
        "        (11,    192),\n",
        "        (211,   188),\n",
        "        (91,    210),\n",
        "        (147,   185),\n",
        "        (182,   221),\n",
        "        (92,    196),\n",
        "        (36,    208),\n",
        "        (188,   172),\n",
        "        (11,    200)     )      # Weekly demands\n",
        "\n",
        "c       = (2, 3)                # Inventory costs [$ / month]\n",
        "iInit   = (85, 50)              # Initial inventories\n",
        "\n",
        "b       = (1, 2)                # Backlog costs\n",
        "s       = (750, 450)            # Setup costs\n",
        "\n",
        "R       = 320                   # Weekly resource capacity of the facility\n",
        "r       = (0.5, 1.3)            # Capacity requirements\n"
      ]
    },
    {
      "cell_type": "code",
      "execution_count": 6,
      "metadata": {
        "id": "VQyJLeLbwduo"
      },
      "outputs": [],
      "source": [
        "# Setting big M\n",
        "\n",
        "M = max([sum(i) for i in zip(*D)])      # Maximum # of products that is appropriate to order\n"
      ]
    },
    {
      "cell_type": "code",
      "execution_count": 7,
      "metadata": {
        "id": "Vr8eUAZxwdup"
      },
      "outputs": [],
      "source": [
        "# Definition of the decision variables\n",
        "\n",
        "X = {   (i, t): LpVariable( name=\"X-{model}-{week}\".format(     model   = P[i],                                     # Amount of ordered products per week\n",
        "                                                                week    = t     if t>=10 \n",
        "                                                                                else \"0{}\".format(t)),              # Standardizing the time indices with two digits\n",
        "                            lowBound=0                                                               )\n",
        "                                                                                for i in range(len(P)) for t in T       }\n",
        "\n",
        "\n",
        "I = {   (i, t): LpVariable( name=\"I-{model}-{week}\".format(     model   = P[i],                                     # Inventory of item i at the end of week t\n",
        "                                                                week    = t     if t>=10 \n",
        "                                                                                else \"0{}\".format(t)),\n",
        "                            lowBound=0                                                               )              \n",
        "                                                                                for i in range(len(P)) for t in T_ext   }\n",
        "\n",
        "B = {   (i, t): LpVariable( name=\"B-{model}-{week}\".format(     model   = P[i],                                     # Backlog of item i at the end of week t\n",
        "                                                                week    = t     if t>=10 \n",
        "                                                                                else \"0{}\".format(t)),\n",
        "                            lowBound=0                                                               )              \n",
        "                                                                                for i in range(len(P)) for t in T_ext   }\n",
        "\n",
        "\n",
        "Y = {   (i, t): LpVariable( name=\"Y-{model}-{week}\".format(     model   = P[i],                                     # Whether product i is ordered at period t\n",
        "                                                                week    = t     if t>=10 \n",
        "                                                                                else \"0{}\".format(t)),\n",
        "                            cat=\"Binary\"                                                            )\n",
        "                                                                                for i in range(len(P)) for t in T       }\n"
      ]
    },
    {
      "cell_type": "code",
      "execution_count": 8,
      "metadata": {
        "id": "z1fFE0Fewduq"
      },
      "outputs": [],
      "source": [
        "# Statement of the objective function: The total cost must be minimized.\n",
        "\n",
        "model3 += lpSum(\n",
        "                [   b[i]*B[(i,t)]                   +                           # Backlog costs,       \n",
        "                    c[i]*(I[(i,t)] + I[(i,t-1)])/2  +                           # Inventory holding costs,\n",
        "                    s[i]*Y[(i,t)]                                               # and setup costs\n",
        "                                            for t in T                          # are summed over each month,\n",
        "                                            for i in range(len(P)   )  ]    )   # and each product group.\n"
      ]
    },
    {
      "cell_type": "code",
      "execution_count": 9,
      "metadata": {
        "id": "frfD8o-qwdur"
      },
      "outputs": [],
      "source": [
        "# Definition of the constraints\n",
        "\n",
        "for i in range(len(P)):                                                                         # Setting the initial inventory levels\n",
        "    model3 += (I[(i, 0)] ==  iInit[i]\n",
        "                                                                                    )\n",
        "    \n",
        "for i in range(len(P)):                                                                         # Setting the final backlog to zero\n",
        "    model3 += (B[(i, len(T))] ==  0\n",
        "                                                                                    )\n",
        "\n",
        "for i in range(len(P)):                                                                         # Inventory balance / demand satisfaction\n",
        "    for t in T:\n",
        "        model3 += ( I[(i,t-1)]  - B[(i,t-1)]    + X[(i,t)]  ==\n",
        "                    I[(i,t)]    - B[(i,t)]      + D[t-1][i]                         )\n",
        "\n",
        "for i in range(len(P)):\n",
        "    for t in T:                                                                                 # Binary variable adjustment for fixed costs\n",
        "        model3 += (  X[(i,t)] <= M*Y[(i,t)]                                          )\n",
        "\n"
      ]
    },
    {
      "cell_type": "code",
      "execution_count": 10,
      "metadata": {
        "colab": {
          "base_uri": "https://localhost:8080/"
        },
        "id": "j81Nbc1zwdur",
        "outputId": "a9aa18ab-207d-4af9-f03b-f68f957e8b36"
      },
      "outputs": [
        {
          "data": {
            "text/plain": [
              "lot-sizing:\n",
              "MINIMIZE\n",
              "1*B_P1_01 + 1*B_P1_02 + 1*B_P1_03 + 1*B_P1_04 + 1*B_P1_05 + 1*B_P1_06 + 1*B_P1_07 + 1*B_P1_08 + 1*B_P1_09 + 1*B_P1_10 + 1*B_P1_11 + 1*B_P1_12 + 2*B_P2_01 + 2*B_P2_02 + 2*B_P2_03 + 2*B_P2_04 + 2*B_P2_05 + 2*B_P2_06 + 2*B_P2_07 + 2*B_P2_08 + 2*B_P2_09 + 2*B_P2_10 + 2*B_P2_11 + 2*B_P2_12 + 1.0*I_P1_00 + 2.0*I_P1_01 + 2.0*I_P1_02 + 2.0*I_P1_03 + 2.0*I_P1_04 + 2.0*I_P1_05 + 2.0*I_P1_06 + 2.0*I_P1_07 + 2.0*I_P1_08 + 2.0*I_P1_09 + 2.0*I_P1_10 + 2.0*I_P1_11 + 1.0*I_P1_12 + 1.5*I_P2_00 + 3.0*I_P2_01 + 3.0*I_P2_02 + 3.0*I_P2_03 + 3.0*I_P2_04 + 3.0*I_P2_05 + 3.0*I_P2_06 + 3.0*I_P2_07 + 3.0*I_P2_08 + 3.0*I_P2_09 + 3.0*I_P2_10 + 3.0*I_P2_11 + 1.5*I_P2_12 + 750*Y_P1_01 + 750*Y_P1_02 + 750*Y_P1_03 + 750*Y_P1_04 + 750*Y_P1_05 + 750*Y_P1_06 + 750*Y_P1_07 + 750*Y_P1_08 + 750*Y_P1_09 + 750*Y_P1_10 + 750*Y_P1_11 + 750*Y_P1_12 + 450*Y_P2_01 + 450*Y_P2_02 + 450*Y_P2_03 + 450*Y_P2_04 + 450*Y_P2_05 + 450*Y_P2_06 + 450*Y_P2_07 + 450*Y_P2_08 + 450*Y_P2_09 + 450*Y_P2_10 + 450*Y_P2_11 + 450*Y_P2_12 + 0.0\n",
              "SUBJECT TO\n",
              "_C1: I_P1_00 = 85\n",
              "\n",
              "_C2: I_P2_00 = 50\n",
              "\n",
              "_C3: B_P1_12 = 0\n",
              "\n",
              "_C4: B_P2_12 = 0\n",
              "\n",
              "_C5: - B_P1_00 + B_P1_01 + I_P1_00 - I_P1_01 + X_P1_01 = 226\n",
              "\n",
              "_C6: - B_P1_01 + B_P1_02 + I_P1_01 - I_P1_02 + X_P1_02 = 117\n",
              "\n",
              "_C7: - B_P1_02 + B_P1_03 + I_P1_02 - I_P1_03 + X_P1_03 = 5\n",
              "\n",
              "_C8: - B_P1_03 + B_P1_04 + I_P1_03 - I_P1_04 + X_P1_04 = 11\n",
              "\n",
              "_C9: - B_P1_04 + B_P1_05 + I_P1_04 - I_P1_05 + X_P1_05 = 211\n",
              "\n",
              "_C10: - B_P1_05 + B_P1_06 + I_P1_05 - I_P1_06 + X_P1_06 = 91\n",
              "\n",
              "_C11: - B_P1_06 + B_P1_07 + I_P1_06 - I_P1_07 + X_P1_07 = 147\n",
              "\n",
              "_C12: - B_P1_07 + B_P1_08 + I_P1_07 - I_P1_08 + X_P1_08 = 182\n",
              "\n",
              "_C13: - B_P1_08 + B_P1_09 + I_P1_08 - I_P1_09 + X_P1_09 = 92\n",
              "\n",
              "_C14: - B_P1_09 + B_P1_10 + I_P1_09 - I_P1_10 + X_P1_10 = 36\n",
              "\n",
              "_C15: - B_P1_10 + B_P1_11 + I_P1_10 - I_P1_11 + X_P1_11 = 188\n",
              "\n",
              "_C16: - B_P1_11 + B_P1_12 + I_P1_11 - I_P1_12 + X_P1_12 = 11\n",
              "\n",
              "_C17: - B_P2_00 + B_P2_01 + I_P2_00 - I_P2_01 + X_P2_01 = 171\n",
              "\n",
              "_C18: - B_P2_01 + B_P2_02 + I_P2_01 - I_P2_02 + X_P2_02 = 177\n",
              "\n",
              "_C19: - B_P2_02 + B_P2_03 + I_P2_02 - I_P2_03 + X_P2_03 = 144\n",
              "\n",
              "_C20: - B_P2_03 + B_P2_04 + I_P2_03 - I_P2_04 + X_P2_04 = 192\n",
              "\n",
              "_C21: - B_P2_04 + B_P2_05 + I_P2_04 - I_P2_05 + X_P2_05 = 188\n",
              "\n",
              "_C22: - B_P2_05 + B_P2_06 + I_P2_05 - I_P2_06 + X_P2_06 = 210\n",
              "\n",
              "_C23: - B_P2_06 + B_P2_07 + I_P2_06 - I_P2_07 + X_P2_07 = 185\n",
              "\n",
              "_C24: - B_P2_07 + B_P2_08 + I_P2_07 - I_P2_08 + X_P2_08 = 221\n",
              "\n",
              "_C25: - B_P2_08 + B_P2_09 + I_P2_08 - I_P2_09 + X_P2_09 = 196\n",
              "\n",
              "_C26: - B_P2_09 + B_P2_10 + I_P2_09 - I_P2_10 + X_P2_10 = 208\n",
              "\n",
              "_C27: - B_P2_10 + B_P2_11 + I_P2_10 - I_P2_11 + X_P2_11 = 172\n",
              "\n",
              "_C28: - B_P2_11 + B_P2_12 + I_P2_11 - I_P2_12 + X_P2_12 = 200\n",
              "\n",
              "_C29: X_P1_01 - 2264 Y_P1_01 <= 0\n",
              "\n",
              "_C30: X_P1_02 - 2264 Y_P1_02 <= 0\n",
              "\n",
              "_C31: X_P1_03 - 2264 Y_P1_03 <= 0\n",
              "\n",
              "_C32: X_P1_04 - 2264 Y_P1_04 <= 0\n",
              "\n",
              "_C33: X_P1_05 - 2264 Y_P1_05 <= 0\n",
              "\n",
              "_C34: X_P1_06 - 2264 Y_P1_06 <= 0\n",
              "\n",
              "_C35: X_P1_07 - 2264 Y_P1_07 <= 0\n",
              "\n",
              "_C36: X_P1_08 - 2264 Y_P1_08 <= 0\n",
              "\n",
              "_C37: X_P1_09 - 2264 Y_P1_09 <= 0\n",
              "\n",
              "_C38: X_P1_10 - 2264 Y_P1_10 <= 0\n",
              "\n",
              "_C39: X_P1_11 - 2264 Y_P1_11 <= 0\n",
              "\n",
              "_C40: X_P1_12 - 2264 Y_P1_12 <= 0\n",
              "\n",
              "_C41: X_P2_01 - 2264 Y_P2_01 <= 0\n",
              "\n",
              "_C42: X_P2_02 - 2264 Y_P2_02 <= 0\n",
              "\n",
              "_C43: X_P2_03 - 2264 Y_P2_03 <= 0\n",
              "\n",
              "_C44: X_P2_04 - 2264 Y_P2_04 <= 0\n",
              "\n",
              "_C45: X_P2_05 - 2264 Y_P2_05 <= 0\n",
              "\n",
              "_C46: X_P2_06 - 2264 Y_P2_06 <= 0\n",
              "\n",
              "_C47: X_P2_07 - 2264 Y_P2_07 <= 0\n",
              "\n",
              "_C48: X_P2_08 - 2264 Y_P2_08 <= 0\n",
              "\n",
              "_C49: X_P2_09 - 2264 Y_P2_09 <= 0\n",
              "\n",
              "_C50: X_P2_10 - 2264 Y_P2_10 <= 0\n",
              "\n",
              "_C51: X_P2_11 - 2264 Y_P2_11 <= 0\n",
              "\n",
              "_C52: X_P2_12 - 2264 Y_P2_12 <= 0\n",
              "\n",
              "VARIABLES\n",
              "B_P1_00 Continuous\n",
              "B_P1_01 Continuous\n",
              "B_P1_02 Continuous\n",
              "B_P1_03 Continuous\n",
              "B_P1_04 Continuous\n",
              "B_P1_05 Continuous\n",
              "B_P1_06 Continuous\n",
              "B_P1_07 Continuous\n",
              "B_P1_08 Continuous\n",
              "B_P1_09 Continuous\n",
              "B_P1_10 Continuous\n",
              "B_P1_11 Continuous\n",
              "B_P1_12 Continuous\n",
              "B_P2_00 Continuous\n",
              "B_P2_01 Continuous\n",
              "B_P2_02 Continuous\n",
              "B_P2_03 Continuous\n",
              "B_P2_04 Continuous\n",
              "B_P2_05 Continuous\n",
              "B_P2_06 Continuous\n",
              "B_P2_07 Continuous\n",
              "B_P2_08 Continuous\n",
              "B_P2_09 Continuous\n",
              "B_P2_10 Continuous\n",
              "B_P2_11 Continuous\n",
              "B_P2_12 Continuous\n",
              "I_P1_00 Continuous\n",
              "I_P1_01 Continuous\n",
              "I_P1_02 Continuous\n",
              "I_P1_03 Continuous\n",
              "I_P1_04 Continuous\n",
              "I_P1_05 Continuous\n",
              "I_P1_06 Continuous\n",
              "I_P1_07 Continuous\n",
              "I_P1_08 Continuous\n",
              "I_P1_09 Continuous\n",
              "I_P1_10 Continuous\n",
              "I_P1_11 Continuous\n",
              "I_P1_12 Continuous\n",
              "I_P2_00 Continuous\n",
              "I_P2_01 Continuous\n",
              "I_P2_02 Continuous\n",
              "I_P2_03 Continuous\n",
              "I_P2_04 Continuous\n",
              "I_P2_05 Continuous\n",
              "I_P2_06 Continuous\n",
              "I_P2_07 Continuous\n",
              "I_P2_08 Continuous\n",
              "I_P2_09 Continuous\n",
              "I_P2_10 Continuous\n",
              "I_P2_11 Continuous\n",
              "I_P2_12 Continuous\n",
              "X_P1_01 Continuous\n",
              "X_P1_02 Continuous\n",
              "X_P1_03 Continuous\n",
              "X_P1_04 Continuous\n",
              "X_P1_05 Continuous\n",
              "X_P1_06 Continuous\n",
              "X_P1_07 Continuous\n",
              "X_P1_08 Continuous\n",
              "X_P1_09 Continuous\n",
              "X_P1_10 Continuous\n",
              "X_P1_11 Continuous\n",
              "X_P1_12 Continuous\n",
              "X_P2_01 Continuous\n",
              "X_P2_02 Continuous\n",
              "X_P2_03 Continuous\n",
              "X_P2_04 Continuous\n",
              "X_P2_05 Continuous\n",
              "X_P2_06 Continuous\n",
              "X_P2_07 Continuous\n",
              "X_P2_08 Continuous\n",
              "X_P2_09 Continuous\n",
              "X_P2_10 Continuous\n",
              "X_P2_11 Continuous\n",
              "X_P2_12 Continuous\n",
              "0 <= Y_P1_01 <= 1 Integer\n",
              "0 <= Y_P1_02 <= 1 Integer\n",
              "0 <= Y_P1_03 <= 1 Integer\n",
              "0 <= Y_P1_04 <= 1 Integer\n",
              "0 <= Y_P1_05 <= 1 Integer\n",
              "0 <= Y_P1_06 <= 1 Integer\n",
              "0 <= Y_P1_07 <= 1 Integer\n",
              "0 <= Y_P1_08 <= 1 Integer\n",
              "0 <= Y_P1_09 <= 1 Integer\n",
              "0 <= Y_P1_10 <= 1 Integer\n",
              "0 <= Y_P1_11 <= 1 Integer\n",
              "0 <= Y_P1_12 <= 1 Integer\n",
              "0 <= Y_P2_01 <= 1 Integer\n",
              "0 <= Y_P2_02 <= 1 Integer\n",
              "0 <= Y_P2_03 <= 1 Integer\n",
              "0 <= Y_P2_04 <= 1 Integer\n",
              "0 <= Y_P2_05 <= 1 Integer\n",
              "0 <= Y_P2_06 <= 1 Integer\n",
              "0 <= Y_P2_07 <= 1 Integer\n",
              "0 <= Y_P2_08 <= 1 Integer\n",
              "0 <= Y_P2_09 <= 1 Integer\n",
              "0 <= Y_P2_10 <= 1 Integer\n",
              "0 <= Y_P2_11 <= 1 Integer\n",
              "0 <= Y_P2_12 <= 1 Integer"
            ]
          },
          "execution_count": 10,
          "metadata": {},
          "output_type": "execute_result"
        }
      ],
      "source": [
        "model4 = model3\n",
        "\n",
        "model3"
      ]
    },
    {
      "cell_type": "code",
      "execution_count": 11,
      "metadata": {
        "colab": {
          "base_uri": "https://localhost:8080/"
        },
        "id": "xTnF7YtP9RtS",
        "outputId": "23a5d1e1-a281-4c36-e6cd-43309c0f9799"
      },
      "outputs": [
        {
          "data": {
            "text/plain": [
              "13"
            ]
          },
          "execution_count": 11,
          "metadata": {},
          "output_type": "execute_result"
        }
      ],
      "source": [
        "len(T_ext)"
      ]
    },
    {
      "cell_type": "code",
      "execution_count": 12,
      "metadata": {
        "colab": {
          "base_uri": "https://localhost:8080/",
          "height": 35
        },
        "id": "ffDvbDsYwdus",
        "outputId": "70410746-e89a-4d55-ac37-bc981fb200f8"
      },
      "outputs": [
        {
          "data": {
            "application/vnd.google.colaboratory.intrinsic+json": {
              "type": "string"
            },
            "text/plain": [
              "'Optimal'"
            ]
          },
          "execution_count": 12,
          "metadata": {},
          "output_type": "execute_result"
        }
      ],
      "source": [
        "model3.solve()\n",
        "LpStatus[model3.status]"
      ]
    },
    {
      "cell_type": "code",
      "execution_count": 13,
      "metadata": {
        "colab": {
          "base_uri": "https://localhost:8080/"
        },
        "id": "BGBz50_Twdut",
        "outputId": "bd491632-8044-4ee7-821d-4f4958b17249"
      },
      "outputs": [
        {
          "name": "stdout",
          "output_type": "stream",
          "text": [
            "z* =  8425.0\n"
          ]
        }
      ],
      "source": [
        "print(\"z* = \", value(model3.objective))"
      ]
    },
    {
      "cell_type": "code",
      "execution_count": 14,
      "metadata": {
        "colab": {
          "base_uri": "https://localhost:8080/"
        },
        "id": "1NpqT50Uwdut",
        "outputId": "18cea712-85db-4279-c617-4e5366ebda33"
      },
      "outputs": [
        {
          "name": "stdout",
          "output_type": "stream",
          "text": [
            "B_P1_00  =  0.0\n",
            "B_P1_01  =  141.0\n",
            "B_P1_02  =  0.0\n",
            "B_P1_03  =  0.0\n",
            "B_P1_04  =  11.0\n",
            "B_P1_05  =  222.0\n",
            "B_P1_06  =  313.0\n",
            "B_P1_07  =  0.0\n",
            "B_P1_08  =  0.0\n",
            "B_P1_09  =  92.0\n",
            "B_P1_10  =  128.0\n",
            "B_P1_11  =  0.0\n",
            "B_P1_12  =  0.0\n",
            "B_P2_00  =  0.0\n",
            "B_P2_01  =  121.0\n",
            "B_P2_02  =  0.0\n",
            "B_P2_03  =  144.0\n",
            "B_P2_04  =  0.0\n",
            "B_P2_05  =  188.0\n",
            "B_P2_06  =  0.0\n",
            "B_P2_07  =  185.0\n",
            "B_P2_08  =  0.0\n",
            "B_P2_09  =  196.0\n",
            "B_P2_10  =  0.0\n",
            "B_P2_11  =  172.0\n",
            "B_P2_12  =  0.0\n",
            "I_P1_00  =  85.0\n",
            "I_P1_01  =  0.0\n",
            "I_P1_02  =  5.0\n",
            "I_P1_03  =  0.0\n",
            "I_P1_04  =  0.0\n",
            "I_P1_05  =  0.0\n",
            "I_P1_06  =  0.0\n",
            "I_P1_07  =  182.0\n",
            "I_P1_08  =  0.0\n",
            "I_P1_09  =  0.0\n",
            "I_P1_10  =  0.0\n",
            "I_P1_11  =  11.0\n",
            "I_P1_12  =  0.0\n",
            "I_P2_00  =  50.0\n",
            "I_P2_01  =  0.0\n",
            "I_P2_02  =  0.0\n",
            "I_P2_03  =  0.0\n",
            "I_P2_04  =  0.0\n",
            "I_P2_05  =  0.0\n",
            "I_P2_06  =  0.0\n",
            "I_P2_07  =  0.0\n",
            "I_P2_08  =  0.0\n",
            "I_P2_09  =  0.0\n",
            "I_P2_10  =  0.0\n",
            "I_P2_11  =  0.0\n",
            "I_P2_12  =  0.0\n",
            "X_P1_01  =  0.0\n",
            "X_P1_02  =  263.0\n",
            "X_P1_03  =  0.0\n",
            "X_P1_04  =  0.0\n",
            "X_P1_05  =  0.0\n",
            "X_P1_06  =  0.0\n",
            "X_P1_07  =  642.0\n",
            "X_P1_08  =  0.0\n",
            "X_P1_09  =  0.0\n",
            "X_P1_10  =  0.0\n",
            "X_P1_11  =  327.0\n",
            "X_P1_12  =  0.0\n",
            "X_P2_01  =  0.0\n",
            "X_P2_02  =  298.0\n",
            "X_P2_03  =  0.0\n",
            "X_P2_04  =  336.0\n",
            "X_P2_05  =  0.0\n",
            "X_P2_06  =  398.0\n",
            "X_P2_07  =  0.0\n",
            "X_P2_08  =  406.0\n",
            "X_P2_09  =  0.0\n",
            "X_P2_10  =  404.0\n",
            "X_P2_11  =  0.0\n",
            "X_P2_12  =  372.0\n",
            "Y_P1_01  =  0.0\n",
            "Y_P1_02  =  1.0\n",
            "Y_P1_03  =  0.0\n",
            "Y_P1_04  =  0.0\n",
            "Y_P1_05  =  0.0\n",
            "Y_P1_06  =  0.0\n",
            "Y_P1_07  =  1.0\n",
            "Y_P1_08  =  0.0\n",
            "Y_P1_09  =  0.0\n",
            "Y_P1_10  =  0.0\n",
            "Y_P1_11  =  1.0\n",
            "Y_P1_12  =  0.0\n",
            "Y_P2_01  =  0.0\n",
            "Y_P2_02  =  1.0\n",
            "Y_P2_03  =  0.0\n",
            "Y_P2_04  =  1.0\n",
            "Y_P2_05  =  0.0\n",
            "Y_P2_06  =  1.0\n",
            "Y_P2_07  =  0.0\n",
            "Y_P2_08  =  1.0\n",
            "Y_P2_09  =  0.0\n",
            "Y_P2_10  =  1.0\n",
            "Y_P2_11  =  0.0\n",
            "Y_P2_12  =  1.0\n"
          ]
        }
      ],
      "source": [
        "for v in model3.variables():\n",
        "    print(v.name, \" = \", v.varValue)"
      ]
    },
    {
      "attachments": {},
      "cell_type": "markdown",
      "metadata": {
        "id": "JSSn2al52c8Y"
      },
      "source": [
        "## Part 4"
      ]
    },
    {
      "cell_type": "code",
      "execution_count": 15,
      "metadata": {
        "id": "07wq_wF72fJO"
      },
      "outputs": [],
      "source": [
        "# Resource capacity for the forth part        \n",
        "\n",
        "for t in T:                             \n",
        "    model4 += (  lpSum(\n",
        "                        [ X[(i,t)]*r[i] for i in range(len(P))  ]  \n",
        "                                                                  ) <= R)           \n"
      ]
    },
    {
      "cell_type": "code",
      "execution_count": 16,
      "metadata": {
        "colab": {
          "base_uri": "https://localhost:8080/"
        },
        "id": "zZ6Zvc0v3NAw",
        "outputId": "48541fb3-f67e-4bda-8d61-33a0ce394442"
      },
      "outputs": [
        {
          "data": {
            "text/plain": [
              "lot-sizing:\n",
              "MINIMIZE\n",
              "1*B_P1_01 + 1*B_P1_02 + 1*B_P1_03 + 1*B_P1_04 + 1*B_P1_05 + 1*B_P1_06 + 1*B_P1_07 + 1*B_P1_08 + 1*B_P1_09 + 1*B_P1_10 + 1*B_P1_11 + 1*B_P1_12 + 2*B_P2_01 + 2*B_P2_02 + 2*B_P2_03 + 2*B_P2_04 + 2*B_P2_05 + 2*B_P2_06 + 2*B_P2_07 + 2*B_P2_08 + 2*B_P2_09 + 2*B_P2_10 + 2*B_P2_11 + 2*B_P2_12 + 1.0*I_P1_00 + 2.0*I_P1_01 + 2.0*I_P1_02 + 2.0*I_P1_03 + 2.0*I_P1_04 + 2.0*I_P1_05 + 2.0*I_P1_06 + 2.0*I_P1_07 + 2.0*I_P1_08 + 2.0*I_P1_09 + 2.0*I_P1_10 + 2.0*I_P1_11 + 1.0*I_P1_12 + 1.5*I_P2_00 + 3.0*I_P2_01 + 3.0*I_P2_02 + 3.0*I_P2_03 + 3.0*I_P2_04 + 3.0*I_P2_05 + 3.0*I_P2_06 + 3.0*I_P2_07 + 3.0*I_P2_08 + 3.0*I_P2_09 + 3.0*I_P2_10 + 3.0*I_P2_11 + 1.5*I_P2_12 + 750*Y_P1_01 + 750*Y_P1_02 + 750*Y_P1_03 + 750*Y_P1_04 + 750*Y_P1_05 + 750*Y_P1_06 + 750*Y_P1_07 + 750*Y_P1_08 + 750*Y_P1_09 + 750*Y_P1_10 + 750*Y_P1_11 + 750*Y_P1_12 + 450*Y_P2_01 + 450*Y_P2_02 + 450*Y_P2_03 + 450*Y_P2_04 + 450*Y_P2_05 + 450*Y_P2_06 + 450*Y_P2_07 + 450*Y_P2_08 + 450*Y_P2_09 + 450*Y_P2_10 + 450*Y_P2_11 + 450*Y_P2_12 + 0.0\n",
              "SUBJECT TO\n",
              "_C1: I_P1_00 = 85\n",
              "\n",
              "_C2: I_P2_00 = 50\n",
              "\n",
              "_C3: B_P1_12 = 0\n",
              "\n",
              "_C4: B_P2_12 = 0\n",
              "\n",
              "_C5: - B_P1_00 + B_P1_01 + I_P1_00 - I_P1_01 + X_P1_01 = 226\n",
              "\n",
              "_C6: - B_P1_01 + B_P1_02 + I_P1_01 - I_P1_02 + X_P1_02 = 117\n",
              "\n",
              "_C7: - B_P1_02 + B_P1_03 + I_P1_02 - I_P1_03 + X_P1_03 = 5\n",
              "\n",
              "_C8: - B_P1_03 + B_P1_04 + I_P1_03 - I_P1_04 + X_P1_04 = 11\n",
              "\n",
              "_C9: - B_P1_04 + B_P1_05 + I_P1_04 - I_P1_05 + X_P1_05 = 211\n",
              "\n",
              "_C10: - B_P1_05 + B_P1_06 + I_P1_05 - I_P1_06 + X_P1_06 = 91\n",
              "\n",
              "_C11: - B_P1_06 + B_P1_07 + I_P1_06 - I_P1_07 + X_P1_07 = 147\n",
              "\n",
              "_C12: - B_P1_07 + B_P1_08 + I_P1_07 - I_P1_08 + X_P1_08 = 182\n",
              "\n",
              "_C13: - B_P1_08 + B_P1_09 + I_P1_08 - I_P1_09 + X_P1_09 = 92\n",
              "\n",
              "_C14: - B_P1_09 + B_P1_10 + I_P1_09 - I_P1_10 + X_P1_10 = 36\n",
              "\n",
              "_C15: - B_P1_10 + B_P1_11 + I_P1_10 - I_P1_11 + X_P1_11 = 188\n",
              "\n",
              "_C16: - B_P1_11 + B_P1_12 + I_P1_11 - I_P1_12 + X_P1_12 = 11\n",
              "\n",
              "_C17: - B_P2_00 + B_P2_01 + I_P2_00 - I_P2_01 + X_P2_01 = 171\n",
              "\n",
              "_C18: - B_P2_01 + B_P2_02 + I_P2_01 - I_P2_02 + X_P2_02 = 177\n",
              "\n",
              "_C19: - B_P2_02 + B_P2_03 + I_P2_02 - I_P2_03 + X_P2_03 = 144\n",
              "\n",
              "_C20: - B_P2_03 + B_P2_04 + I_P2_03 - I_P2_04 + X_P2_04 = 192\n",
              "\n",
              "_C21: - B_P2_04 + B_P2_05 + I_P2_04 - I_P2_05 + X_P2_05 = 188\n",
              "\n",
              "_C22: - B_P2_05 + B_P2_06 + I_P2_05 - I_P2_06 + X_P2_06 = 210\n",
              "\n",
              "_C23: - B_P2_06 + B_P2_07 + I_P2_06 - I_P2_07 + X_P2_07 = 185\n",
              "\n",
              "_C24: - B_P2_07 + B_P2_08 + I_P2_07 - I_P2_08 + X_P2_08 = 221\n",
              "\n",
              "_C25: - B_P2_08 + B_P2_09 + I_P2_08 - I_P2_09 + X_P2_09 = 196\n",
              "\n",
              "_C26: - B_P2_09 + B_P2_10 + I_P2_09 - I_P2_10 + X_P2_10 = 208\n",
              "\n",
              "_C27: - B_P2_10 + B_P2_11 + I_P2_10 - I_P2_11 + X_P2_11 = 172\n",
              "\n",
              "_C28: - B_P2_11 + B_P2_12 + I_P2_11 - I_P2_12 + X_P2_12 = 200\n",
              "\n",
              "_C29: X_P1_01 - 2264 Y_P1_01 <= 0\n",
              "\n",
              "_C30: X_P1_02 - 2264 Y_P1_02 <= 0\n",
              "\n",
              "_C31: X_P1_03 - 2264 Y_P1_03 <= 0\n",
              "\n",
              "_C32: X_P1_04 - 2264 Y_P1_04 <= 0\n",
              "\n",
              "_C33: X_P1_05 - 2264 Y_P1_05 <= 0\n",
              "\n",
              "_C34: X_P1_06 - 2264 Y_P1_06 <= 0\n",
              "\n",
              "_C35: X_P1_07 - 2264 Y_P1_07 <= 0\n",
              "\n",
              "_C36: X_P1_08 - 2264 Y_P1_08 <= 0\n",
              "\n",
              "_C37: X_P1_09 - 2264 Y_P1_09 <= 0\n",
              "\n",
              "_C38: X_P1_10 - 2264 Y_P1_10 <= 0\n",
              "\n",
              "_C39: X_P1_11 - 2264 Y_P1_11 <= 0\n",
              "\n",
              "_C40: X_P1_12 - 2264 Y_P1_12 <= 0\n",
              "\n",
              "_C41: X_P2_01 - 2264 Y_P2_01 <= 0\n",
              "\n",
              "_C42: X_P2_02 - 2264 Y_P2_02 <= 0\n",
              "\n",
              "_C43: X_P2_03 - 2264 Y_P2_03 <= 0\n",
              "\n",
              "_C44: X_P2_04 - 2264 Y_P2_04 <= 0\n",
              "\n",
              "_C45: X_P2_05 - 2264 Y_P2_05 <= 0\n",
              "\n",
              "_C46: X_P2_06 - 2264 Y_P2_06 <= 0\n",
              "\n",
              "_C47: X_P2_07 - 2264 Y_P2_07 <= 0\n",
              "\n",
              "_C48: X_P2_08 - 2264 Y_P2_08 <= 0\n",
              "\n",
              "_C49: X_P2_09 - 2264 Y_P2_09 <= 0\n",
              "\n",
              "_C50: X_P2_10 - 2264 Y_P2_10 <= 0\n",
              "\n",
              "_C51: X_P2_11 - 2264 Y_P2_11 <= 0\n",
              "\n",
              "_C52: X_P2_12 - 2264 Y_P2_12 <= 0\n",
              "\n",
              "_C53: 0.5 X_P1_01 + 1.3 X_P2_01 <= 320\n",
              "\n",
              "_C54: 0.5 X_P1_02 + 1.3 X_P2_02 <= 320\n",
              "\n",
              "_C55: 0.5 X_P1_03 + 1.3 X_P2_03 <= 320\n",
              "\n",
              "_C56: 0.5 X_P1_04 + 1.3 X_P2_04 <= 320\n",
              "\n",
              "_C57: 0.5 X_P1_05 + 1.3 X_P2_05 <= 320\n",
              "\n",
              "_C58: 0.5 X_P1_06 + 1.3 X_P2_06 <= 320\n",
              "\n",
              "_C59: 0.5 X_P1_07 + 1.3 X_P2_07 <= 320\n",
              "\n",
              "_C60: 0.5 X_P1_08 + 1.3 X_P2_08 <= 320\n",
              "\n",
              "_C61: 0.5 X_P1_09 + 1.3 X_P2_09 <= 320\n",
              "\n",
              "_C62: 0.5 X_P1_10 + 1.3 X_P2_10 <= 320\n",
              "\n",
              "_C63: 0.5 X_P1_11 + 1.3 X_P2_11 <= 320\n",
              "\n",
              "_C64: 0.5 X_P1_12 + 1.3 X_P2_12 <= 320\n",
              "\n",
              "VARIABLES\n",
              "B_P1_00 Continuous\n",
              "B_P1_01 Continuous\n",
              "B_P1_02 Continuous\n",
              "B_P1_03 Continuous\n",
              "B_P1_04 Continuous\n",
              "B_P1_05 Continuous\n",
              "B_P1_06 Continuous\n",
              "B_P1_07 Continuous\n",
              "B_P1_08 Continuous\n",
              "B_P1_09 Continuous\n",
              "B_P1_10 Continuous\n",
              "B_P1_11 Continuous\n",
              "B_P1_12 Continuous\n",
              "B_P2_00 Continuous\n",
              "B_P2_01 Continuous\n",
              "B_P2_02 Continuous\n",
              "B_P2_03 Continuous\n",
              "B_P2_04 Continuous\n",
              "B_P2_05 Continuous\n",
              "B_P2_06 Continuous\n",
              "B_P2_07 Continuous\n",
              "B_P2_08 Continuous\n",
              "B_P2_09 Continuous\n",
              "B_P2_10 Continuous\n",
              "B_P2_11 Continuous\n",
              "B_P2_12 Continuous\n",
              "I_P1_00 Continuous\n",
              "I_P1_01 Continuous\n",
              "I_P1_02 Continuous\n",
              "I_P1_03 Continuous\n",
              "I_P1_04 Continuous\n",
              "I_P1_05 Continuous\n",
              "I_P1_06 Continuous\n",
              "I_P1_07 Continuous\n",
              "I_P1_08 Continuous\n",
              "I_P1_09 Continuous\n",
              "I_P1_10 Continuous\n",
              "I_P1_11 Continuous\n",
              "I_P1_12 Continuous\n",
              "I_P2_00 Continuous\n",
              "I_P2_01 Continuous\n",
              "I_P2_02 Continuous\n",
              "I_P2_03 Continuous\n",
              "I_P2_04 Continuous\n",
              "I_P2_05 Continuous\n",
              "I_P2_06 Continuous\n",
              "I_P2_07 Continuous\n",
              "I_P2_08 Continuous\n",
              "I_P2_09 Continuous\n",
              "I_P2_10 Continuous\n",
              "I_P2_11 Continuous\n",
              "I_P2_12 Continuous\n",
              "X_P1_01 Continuous\n",
              "X_P1_02 Continuous\n",
              "X_P1_03 Continuous\n",
              "X_P1_04 Continuous\n",
              "X_P1_05 Continuous\n",
              "X_P1_06 Continuous\n",
              "X_P1_07 Continuous\n",
              "X_P1_08 Continuous\n",
              "X_P1_09 Continuous\n",
              "X_P1_10 Continuous\n",
              "X_P1_11 Continuous\n",
              "X_P1_12 Continuous\n",
              "X_P2_01 Continuous\n",
              "X_P2_02 Continuous\n",
              "X_P2_03 Continuous\n",
              "X_P2_04 Continuous\n",
              "X_P2_05 Continuous\n",
              "X_P2_06 Continuous\n",
              "X_P2_07 Continuous\n",
              "X_P2_08 Continuous\n",
              "X_P2_09 Continuous\n",
              "X_P2_10 Continuous\n",
              "X_P2_11 Continuous\n",
              "X_P2_12 Continuous\n",
              "0 <= Y_P1_01 <= 1 Integer\n",
              "0 <= Y_P1_02 <= 1 Integer\n",
              "0 <= Y_P1_03 <= 1 Integer\n",
              "0 <= Y_P1_04 <= 1 Integer\n",
              "0 <= Y_P1_05 <= 1 Integer\n",
              "0 <= Y_P1_06 <= 1 Integer\n",
              "0 <= Y_P1_07 <= 1 Integer\n",
              "0 <= Y_P1_08 <= 1 Integer\n",
              "0 <= Y_P1_09 <= 1 Integer\n",
              "0 <= Y_P1_10 <= 1 Integer\n",
              "0 <= Y_P1_11 <= 1 Integer\n",
              "0 <= Y_P1_12 <= 1 Integer\n",
              "0 <= Y_P2_01 <= 1 Integer\n",
              "0 <= Y_P2_02 <= 1 Integer\n",
              "0 <= Y_P2_03 <= 1 Integer\n",
              "0 <= Y_P2_04 <= 1 Integer\n",
              "0 <= Y_P2_05 <= 1 Integer\n",
              "0 <= Y_P2_06 <= 1 Integer\n",
              "0 <= Y_P2_07 <= 1 Integer\n",
              "0 <= Y_P2_08 <= 1 Integer\n",
              "0 <= Y_P2_09 <= 1 Integer\n",
              "0 <= Y_P2_10 <= 1 Integer\n",
              "0 <= Y_P2_11 <= 1 Integer\n",
              "0 <= Y_P2_12 <= 1 Integer"
            ]
          },
          "execution_count": 16,
          "metadata": {},
          "output_type": "execute_result"
        }
      ],
      "source": [
        "model4"
      ]
    },
    {
      "cell_type": "code",
      "execution_count": 17,
      "metadata": {
        "colab": {
          "base_uri": "https://localhost:8080/",
          "height": 35
        },
        "id": "UAtVTR2z3S9M",
        "outputId": "38ba3a79-0025-4648-c010-9246a58e8686"
      },
      "outputs": [
        {
          "data": {
            "application/vnd.google.colaboratory.intrinsic+json": {
              "type": "string"
            },
            "text/plain": [
              "'Optimal'"
            ]
          },
          "execution_count": 17,
          "metadata": {},
          "output_type": "execute_result"
        }
      ],
      "source": [
        "model4.solve()\n",
        "LpStatus[model4.status]"
      ]
    },
    {
      "cell_type": "code",
      "execution_count": 18,
      "metadata": {
        "colab": {
          "base_uri": "https://localhost:8080/"
        },
        "id": "ikWdU3x23Xn-",
        "outputId": "cb79280a-bcff-4483-9351-52922c5b4b73"
      },
      "outputs": [
        {
          "name": "stdout",
          "output_type": "stream",
          "text": [
            "z* =  9553.153853500002\n"
          ]
        }
      ],
      "source": [
        "print(\"z* = \", value(model4.objective))"
      ]
    },
    {
      "cell_type": "code",
      "execution_count": 19,
      "metadata": {
        "colab": {
          "base_uri": "https://localhost:8080/"
        },
        "id": "zYtajnBA3bks",
        "outputId": "73827bd9-7b2d-4112-857c-9aea83360eb8"
      },
      "outputs": [
        {
          "name": "stdout",
          "output_type": "stream",
          "text": [
            "B_P1_00  =  0.0\n",
            "B_P1_01  =  141.0\n",
            "B_P1_02  =  0.0\n",
            "B_P1_03  =  0.0\n",
            "B_P1_04  =  9.0\n",
            "B_P1_05  =  220.0\n",
            "B_P1_06  =  311.0\n",
            "B_P1_07  =  0.0\n",
            "B_P1_08  =  0.0\n",
            "B_P1_09  =  92.0\n",
            "B_P1_10  =  128.0\n",
            "B_P1_11  =  0.0\n",
            "B_P1_12  =  0.0\n",
            "B_P2_00  =  0.0\n",
            "B_P2_01  =  0.0\n",
            "B_P2_02  =  102.15385\n",
            "B_P2_03  =  0.0\n",
            "B_P2_04  =  0.0\n",
            "B_P2_05  =  0.0\n",
            "B_P2_06  =  0.0\n",
            "B_P2_07  =  90.692308\n",
            "B_P2_08  =  65.538462\n",
            "B_P2_09  =  15.384615\n",
            "B_P2_10  =  0.0\n",
            "B_P2_11  =  46.153846\n",
            "B_P2_12  =  0.0\n",
            "I_P1_00  =  85.0\n",
            "I_P1_01  =  0.0\n",
            "I_P1_02  =  7.0\n",
            "I_P1_03  =  2.0\n",
            "I_P1_04  =  0.0\n",
            "I_P1_05  =  0.0\n",
            "I_P1_06  =  0.0\n",
            "I_P1_07  =  182.0\n",
            "I_P1_08  =  0.0\n",
            "I_P1_09  =  0.0\n",
            "I_P1_10  =  0.0\n",
            "I_P1_11  =  11.0\n",
            "I_P1_12  =  0.0\n",
            "I_P2_00  =  50.0\n",
            "I_P2_01  =  74.846154\n",
            "I_P2_02  =  0.0\n",
            "I_P2_03  =  0.0\n",
            "I_P2_04  =  0.0\n",
            "I_P2_05  =  58.153846\n",
            "I_P2_06  =  94.307692\n",
            "I_P2_07  =  0.0\n",
            "I_P2_08  =  0.0\n",
            "I_P2_09  =  0.0\n",
            "I_P2_10  =  5.4615385\n",
            "I_P2_11  =  0.0\n",
            "I_P2_12  =  0.0\n",
            "X_P1_01  =  0.0\n",
            "X_P1_02  =  265.0\n",
            "X_P1_03  =  0.0\n",
            "X_P1_04  =  0.0\n",
            "X_P1_05  =  0.0\n",
            "X_P1_06  =  0.0\n",
            "X_P1_07  =  640.0\n",
            "X_P1_08  =  0.0\n",
            "X_P1_09  =  0.0\n",
            "X_P1_10  =  0.0\n",
            "X_P1_11  =  327.0\n",
            "X_P1_12  =  0.0\n",
            "X_P2_01  =  195.84615\n",
            "X_P2_02  =  0.0\n",
            "X_P2_03  =  246.15385\n",
            "X_P2_04  =  192.0\n",
            "X_P2_05  =  246.15385\n",
            "X_P2_06  =  246.15385\n",
            "X_P2_07  =  0.0\n",
            "X_P2_08  =  246.15385\n",
            "X_P2_09  =  246.15385\n",
            "X_P2_10  =  228.84615\n",
            "X_P2_11  =  120.38462\n",
            "X_P2_12  =  246.15385\n",
            "Y_P1_01  =  0.0\n",
            "Y_P1_02  =  1.0\n",
            "Y_P1_03  =  0.0\n",
            "Y_P1_04  =  0.0\n",
            "Y_P1_05  =  0.0\n",
            "Y_P1_06  =  0.0\n",
            "Y_P1_07  =  1.0\n",
            "Y_P1_08  =  0.0\n",
            "Y_P1_09  =  0.0\n",
            "Y_P1_10  =  0.0\n",
            "Y_P1_11  =  1.0\n",
            "Y_P1_12  =  0.0\n",
            "Y_P2_01  =  1.0\n",
            "Y_P2_02  =  0.0\n",
            "Y_P2_03  =  1.0\n",
            "Y_P2_04  =  1.0\n",
            "Y_P2_05  =  1.0\n",
            "Y_P2_06  =  1.0\n",
            "Y_P2_07  =  0.0\n",
            "Y_P2_08  =  1.0\n",
            "Y_P2_09  =  1.0\n",
            "Y_P2_10  =  1.0\n",
            "Y_P2_11  =  1.0\n",
            "Y_P2_12  =  1.0\n"
          ]
        }
      ],
      "source": [
        "for v in model4.variables():\n",
        "    print(v.name, \" = \", v.varValue)"
      ]
    }
  ],
  "metadata": {
    "colab": {
      "collapsed_sections": [],
      "name": "part_01 & part_04.ipynb",
      "provenance": []
    },
    "interpreter": {
      "hash": "b3ba2566441a7c06988d0923437866b63cedc61552a5af99d1f4fb67d367b25f"
    },
    "kernelspec": {
      "display_name": "Python 3 (ipykernel)",
      "language": "python",
      "name": "python3"
    },
    "language_info": {
      "codemirror_mode": {
        "name": "ipython",
        "version": 3
      },
      "file_extension": ".py",
      "mimetype": "text/x-python",
      "name": "python",
      "nbconvert_exporter": "python",
      "pygments_lexer": "ipython3",
      "version": "3.9.7"
    }
  },
  "nbformat": 4,
  "nbformat_minor": 0
}
